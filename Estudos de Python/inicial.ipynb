{
 "cells": [
  {
   "cell_type": "markdown",
   "metadata": {},
   "source": [
    "# Projeto Python IA: Inteligência Artificial e Previsões\n",
    "\n",
    "### Case: Score de Crédito dos Clientes\n",
    "\n",
    "Você foi contratado por um banco para conseguir definir o score de crédito dos clientes. Você precisa analisar todos os clientes do banco e, com base nessa análise, criar um modelo que consiga ler as informações do cliente e dizer automaticamente o score de crédito dele: Ruim, Ok, Bom\n",
    "\n",
    "Arquivos da aula: https://drive.google.com/drive/folders/1FbDqVq4XLvU85VBlVIMJ73p9oOu6u2-J?usp=drive_link"
   ]
  },
  {
   "cell_type": "code",
   "execution_count": null,
   "metadata": {},
   "outputs": [],
   "source": [
    "\n",
    "# Passo a passo\n",
    "# Passo 0: Entender o desafio da empresa e da sua área\n",
    "# Passo 1: Importar a base de dados\n",
    "# Passo 2: Preparar a base de dados para a inteligência artificial\n",
    "# Passo 3: Criar um modelo de IA\n",
    "# Passo 4: Escolher o delhor modelo entre ela\n",
    "\n"
   ]
  },
  {
   "cell_type": "code",
   "execution_count": null,
   "metadata": {},
   "outputs": [],
   "source": [
    "#PASSO1:\n",
    "import pandas as pd\n",
    "tabela = pd.read_csv(\"clientes.csv\")\n",
    "display(tabela)\n",
    "display(tabela.info())\n",
    "\n",
    "#padrões:\n",
    "#good - boa\n",
    "#standard - média\n",
    "#poor - ruim\n",
    "\n",
    "\n",
    "#float - numeros com casa decimal\n",
    "#int - numeros inteiros\n",
    "#object - texto"
   ]
  },
  {
   "cell_type": "code",
   "execution_count": null,
   "metadata": {},
   "outputs": [],
   "source": [
    "#PASSO2:\n",
    "# Vamos preparar a base de dados para o nosso sistema operacional\n",
    "# A IA só aprende com informações numéricas \n",
    "\n",
    "#colunas que vamos trabalhar\n",
    "#Profissão\n",
    "#Mix_Crédito\n",
    "#Comportamento_Pagamento\n",
    "\n",
    "\n",
    "#PROFISSÃO:\n",
    "# Aplicando com Label Encoder (Fórmula)\n",
    "#cientista - 1\n",
    "#mecanico - 2\n",
    "#ator - 3\n",
    "#engenheiro - 4\n",
    "#medico - 5\n",
    "#farmaceutico - 6\n",
    "\n",
    "from sklearn.preprocessing import LabelEncoder\n",
    "codificador = LabelEncoder()\n",
    "tabela[\"profissao\"] = codificador.fit_transform(tabela[\"profissao\"])\n",
    "tabela[\"mix_credito\"] = codificador.fit_transform(tabela[\"mix_credito\"])\n",
    "tabela[\"comportamento_pagamento\"] = codificador.fit_transform(tabela[\"comportamento_pagamento\"])\n",
    "\n",
    "display(tabela.info())\n",
    "\n",
    "x = tabela.drop(colums=[\"score_cedito\", \"id_cliente\"])\n",
    "y = tabela[\"score_credito\"]\n",
    "\n",
    "from sklearn.model_selection import train_test_split\n",
    "x_treino, x_teste, y_treino, y_teste = train_test_split(x,y, test_size=0.3)\n",
    "\n"
   ]
  },
  {
   "cell_type": "code",
   "execution_count": null,
   "metadata": {},
   "outputs": [],
   "source": [
    "#PASSO3:\n",
    "#Modelos de IA que vou trabalhar:\n",
    "#1: ARVORE DE DECISÃO -> RANDOMFOREST\n",
    "#2: NEIREST NEIGHBORS - K.N.N.: VIZINHOS PRÓXIMOS\n",
    "\n",
    "#Passos para quando for desenvolver uma IA\n",
    "#1:Importar a IA\n",
    "#2:Criar a IA\n",
    "#3:Treinar a IA\n",
    "\n",
    "from sklearn.ensemble import RandomForestClassifier\n",
    "from sklearn.ensemble import KNeighborsClassifier\n",
    "\n",
    "modelo_arvoredecisao = RandomForestClassifier()\n",
    "modelo_knn = KNeighborsClassifier()\n",
    "\n",
    "modelo_arvoredecisao.fit(x_treino, y_treino)\n",
    "modelo_knn.fit(x_treino, y_treino)\n",
    "\n",
    "# recomendação: Kaggle -> Ajuda com base de dados para colocarmos em códigos, caso quisermos"
   ]
  },
  {
   "cell_type": "code",
   "execution_count": null,
   "metadata": {},
   "outputs": [],
   "source": [
    "#PASSO4:\n",
    "previsao_arvoredecisao = modelo_arvoredecisao.predict(x,teste)\n",
    "previsao_knn = modelo_knn.predict(x_teste)\n",
    "\n",
    "from sklearn.metrics import acurracy_score\n",
    "display(acurracy_score(y_teste, previsao_arvoredecisao))\n",
    "display(acurracy_score(Y_teste, previsão_knn))"
   ]
  },
  {
   "cell_type": "code",
   "execution_count": null,
   "metadata": {},
   "outputs": [],
   "source": [
    "#PASSO5:\n",
    "#Conclusão: O modelo previsao_arvoredecisao é a mais adequada para o projeto\n",
    "\n",
    "tabela_novos_clients = pd.read_csv(\"novos clientes\")\n",
    "tabela[\"profissao\"] = codificador.fit_transform(tabela[\"profissao\"])\n",
    "tabela[\"mix_credito\"] = codificador.fit_transform(tabela[\"mix_credito\"])\n",
    "tabela[\"comportamento_pagamento\"] = codificador.fit_transform(tabela[\"comportamento_pagamento\"])\n",
    "\n",
    "previsoes = modelo_arvoredecisao.predict(tabela_novos_clients)\n",
    "display(previsoes)\n",
    "\n",
    "# fazendo novas previsões\n",
    "novos_clientes = pd.read_csv(\"novos_clientes.csv\")\n",
    "display(novos_clientes)\n",
    "for coluna in novos_clientes.columns:\n",
    "    if novos_clientes[coluna].dtype == \"object\" and coluna != \"score_credito\":\n",
    "        novos_clientes[coluna] = codificador.fit_transform(novos_clientes[coluna])\n",
    "\n",
    "previsoes = modelo_arvore.predict(novos_clientes)\n",
    "print(previsoes)\n",
    "\n",
    "# quais as caracteristicas mais importantes para definir o score de credito?\n",
    "colunas = list(x_teste.columns)\n",
    "importancia = pd.DataFrame(index=colunas, data=modelo_arvore.feature_importances_)\n",
    "importancia = importancia * 100\n",
    "print(importancia)\n"
   ]
  }
 ],
 "metadata": {
  "kernelspec": {
   "display_name": "Python 3",
   "language": "python",
   "name": "python3"
  },
  "language_info": {
   "codemirror_mode": {
    "name": "ipython",
    "version": 3
   },
   "file_extension": ".py",
   "mimetype": "text/x-python",
   "name": "python",
   "nbconvert_exporter": "python",
   "pygments_lexer": "ipython3",
   "version": "3.11.4"
  },
  "orig_nbformat": 4
 },
 "nbformat": 4,
 "nbformat_minor": 2
}
